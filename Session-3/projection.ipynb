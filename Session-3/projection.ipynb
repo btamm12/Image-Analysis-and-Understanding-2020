{
 "cells": [
  {
   "cell_type": "code",
   "execution_count": null,
   "metadata": {},
   "outputs": [],
   "source": [
    "import cv2\n",
    "import numpy as np\n",
    "import matplotlib.pyplot as plt\n",
    "import os\n",
    "import open3d as o3d"
   ]
  },
  {
   "cell_type": "code",
   "execution_count": null,
   "metadata": {},
   "outputs": [],
   "source": [
    "#todo: set root dir\n",
    "root_dir = \"\"\n",
    "\n",
    "img_ind = [5095, 5324, 5334, 5349, 5442, 5449, 5632, 5641, 5722, 5879, 5902, 6195, 6299, 6335, 6382, 6412]\n",
    "rgbs = []\n",
    "depths = []\n",
    "\n",
    "#loading of rgbs and depth maps\n",
    "for i in img_ind:\n",
    "    rgb = cv2.imread(os.path.join(root_dir, \"3d/rgb/\", \"img_\" + str(i) + \".png\"))\n",
    "    rgb = cv2.cvtColor(rgb, cv2.COLOR_BGR2RGB)\n",
    "    rgbs.append(rgb)\n",
    "    depth = cv2.imread(os.path.join(root_dir, \"3d/depth/\", \"img_\" + str(i) + \".png\"), -1)\n",
    "    depth = np.asarray(depth, dtype=np.float32)\n",
    "    depths.append(depth / 1000.0)"
   ]
  },
  {
   "cell_type": "code",
   "execution_count": null,
   "metadata": {},
   "outputs": [],
   "source": [
    "#visualize images using matplotlib\n",
    "fig = plt.figure(figsize=(25.00, 10.0))\n",
    "for i in range(0, len(rgbs)):\n",
    "    plt.subplot(4, 8, i + (i // 8) * 8 + 1)\n",
    "    plt.axis(\"off\")\n",
    "    plt.imshow(rgbs[i])\n",
    "    plt.subplot(4, 8, i + ((i // 8 + 1) * 8) + 1)\n",
    "    plt.axis(\"off\")\n",
    "    plt.imshow(1. / depths[i], cmap=\"plasma\")\n"
   ]
  },
  {
   "cell_type": "code",
   "execution_count": null,
   "metadata": {},
   "outputs": [],
   "source": [
    "fx = 5.1885790117450188e+02\n",
    "fy = 5.1946961112127485e+02\n",
    "cx = 3.2558244941119034e+02 - 40\n",
    "cy = 2.5373616633400465e+02 - 44\n",
    "\n",
    "#todo: create intrinsic matrix K and its inverse K_inv\n",
    "\n"
   ]
  },
  {
   "cell_type": "code",
   "execution_count": null,
   "metadata": {},
   "outputs": [],
   "source": [
    "#todo: create a set of points in homogeneous image coordinates points2d - 3 x Npixels: (x, y, 1)\n",
    "#e.g., [[0, 0, 1], [0, 1, 1], [0, 2, 1]...]\n",
    "#use linspace and meshgrid to get (h, w, 3) array, reshape and transpose to match (3, h * w)\n",
    "#todo: unproject with inverse of intrinsics: K * points2d\n",
    "#For each image:\n",
    "points3D = []\n",
    "for i in range(0, len(depths)):\n",
    "    #todo: get real 3D points by scaling the unprojected points by depth value (hint: reshape depths to (h * w))\n",
    "    #todo: append your result to the list\n",
    "    points3D.append()\n",
    "\n",
    "points3D_colored = []\n",
    "for i in range(0, len(rgbs)):\n",
    "    #todo: create an array of coloured points (h*2, 6), last dim is x-y-z-r-g-b\n",
    "    #hint: flatten rgb images to match shape (h*w, 3) and concatenate it to points3D\n",
    "    #todo: append your result to the list\n",
    "    points3D_colored.append()"
   ]
  },
  {
   "cell_type": "code",
   "execution_count": null,
   "metadata": {},
   "outputs": [],
   "source": [
    "#visualize point cloud(s)\n",
    "cloud = o3d.geometry.PointCloud()\n",
    "index2vis = 1\n",
    "cloud.points = o3d.utility.Vector3dVector(points3D_colored[index2vis][:, :3])\n",
    "cloud.colors = o3d.utility.Vector3dVector(points3D_colored[index2vis][:, 3:] / 255.0)\n",
    "\n",
    "o3d.visualization.draw_geometries([cloud])"
   ]
  },
  {
   "cell_type": "code",
   "execution_count": null,
   "metadata": {},
   "outputs": [],
   "source": [
    "#todo: create 3D transformation matrix M (4x4), lets say with z translation -1.0\n",
    "#For every image: \n",
    "points2d_new = []\n",
    "for i in range(0, len(points3D)):\n",
    "    #todo: go to homogeneous coordinates in 3D (append ones to XYZ), transpose to (4, h*w)\n",
    "    #todo: transform by M, and project back using K, remove ones before projecting \n",
    "    #play with the focal length of K if time allows\n",
    "    #todo: go to homogeneous coordinates in image space, but keep Z (we will need it for Z-buffering)\n",
    "    # X/Z, Y/Z, Z\n",
    "    #todo: append your result to the list\n",
    "    points2d_new.append()"
   ]
  },
  {
   "cell_type": "code",
   "execution_count": null,
   "metadata": {},
   "outputs": [],
   "source": [
    "#generate new views, also applying Z-buffering\n",
    "#this is the list of point arrays, each point is r-g-b-Z\n",
    "images_new = np.zeros((len(points2d_new), h, w, 4), dtype=np.uint8)\n",
    "for i in range(0, len(points2d_new)):\n",
    "    print(\"processing image \" + str(i))\n",
    "    p_new_i = np.transpose(points2d_new[i]) #shape = (h*w, 3)\n",
    "    color_flattened_i = np.reshape(rgbs[i], (h * w, 3))\n",
    "    #iterate over all points\n",
    "    for j in range(0, p_new_i.shape[0]):\n",
    "        #pixel coordinates\n",
    "        px = int(p_new_i[j][0])\n",
    "        py = int(p_new_i[j][1])\n",
    "        z = p_new_i[j][2]\n",
    "        #todo: check if point projects inside image (0 <= px < w, 0 <= py < h) and\n",
    "        #todo: is the closest among all points already projected to the same pixel (minimum positive Z)\n",
    "        #todo: if so - update depth and color\n",
    "            #images_new[i][py, px, 3] = z\n",
    "            #images_new[i][py, px, :3] = color_flattened_i[j]"
   ]
  },
  {
   "cell_type": "code",
   "execution_count": null,
   "metadata": {},
   "outputs": [],
   "source": [
    "#visualize\n",
    "fig = plt.figure(figsize=(30, 25.0))\n",
    "for i in range(0, len(rgbs)):\n",
    "    plt.subplot(4, 4, i + 1)\n",
    "    plt.axis(\"off\")\n",
    "    plt.imshow(images_new[i][:, :, :3])"
   ]
  },
  {
   "cell_type": "code",
   "execution_count": null,
   "metadata": {},
   "outputs": [],
   "source": []
  }
 ],
 "metadata": {
  "kernelspec": {
   "display_name": "Python 3",
   "language": "python",
   "name": "python3"
  },
  "language_info": {
   "codemirror_mode": {
    "name": "ipython",
    "version": 3
   },
   "file_extension": ".py",
   "mimetype": "text/x-python",
   "name": "python",
   "nbconvert_exporter": "python",
   "pygments_lexer": "ipython3",
   "version": "3.7.6"
  }
 },
 "nbformat": 4,
 "nbformat_minor": 2
}
