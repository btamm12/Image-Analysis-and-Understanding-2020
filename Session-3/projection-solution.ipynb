{
 "cells": [
  {
   "cell_type": "code",
   "execution_count": null,
   "metadata": {},
   "outputs": [],
   "source": [
    "import cv2\n",
    "import numpy as np\n",
    "import matplotlib.pyplot as plt\n",
    "import os\n",
    "import open3d as o3d"
   ]
  },
  {
   "cell_type": "code",
   "execution_count": null,
   "metadata": {},
   "outputs": [],
   "source": [
    "#todo: set root dir\n",
    "root_dir = \"\"\n",
    "\n",
    "img_ind = [5095, 5324, 5334, 5349, 5442, 5449, 5632, 5641, 5722, 5879, 5902, 6195, 6299, 6335, 6382, 6412]\n",
    "rgbs = []\n",
    "depths = []\n",
    "#loading of rgbs and depth maps\n",
    "for i in img_ind:\n",
    "    rgb = cv2.imread(os.path.join(root_dir, \"3d/rgb/\", \"img_\" + str(i) + \".png\"))\n",
    "    rgb = cv2.cvtColor(rgb, cv2.COLOR_BGR2RGB)\n",
    "    rgbs.append(rgb)\n",
    "    depth = cv2.imread(os.path.join(root_dir, \"3d/depth/\", \"img_\" + str(i) + \".png\"), -1)\n",
    "    depth = np.asarray(depth, dtype=np.float32)\n",
    "    depths.append(depth / 1000.0)"
   ]
  },
  {
   "cell_type": "code",
   "execution_count": null,
   "metadata": {},
   "outputs": [],
   "source": [
    "#visualize images using matplotlib\n",
    "fig = plt.figure(figsize=(25.00, 10.0))\n",
    "for i in range(0, len(rgbs)):\n",
    "    plt.subplot(4, 8, i + (i // 8) * 8 + 1)\n",
    "    plt.axis(\"off\")\n",
    "    plt.imshow(rgbs[i])\n",
    "    plt.subplot(4, 8, i + ((i // 8 + 1) * 8) + 1)\n",
    "    plt.axis(\"off\")\n",
    "    plt.imshow(1. / depths[i], cmap=\"plasma\")\n"
   ]
  },
  {
   "cell_type": "code",
   "execution_count": null,
   "metadata": {},
   "outputs": [],
   "source": [
    "fx = 5.1885790117450188e+02\n",
    "fy = 5.1946961112127485e+02\n",
    "cx = 3.2558244941119034e+02 - 40\n",
    "cy = 2.5373616633400465e+02 - 44\n",
    "\n",
    "#create intrinsic matrix and its inverse\n",
    "K = np.eye(3)\n",
    "K[0, 0] = fx\n",
    "K[0, 2] = cx\n",
    "K[1, 1] = fy\n",
    "K[1, 2] = cy\n",
    "\n",
    "K_inv = np.linalg.inv(K)\n"
   ]
  },
  {
   "cell_type": "code",
   "execution_count": null,
   "metadata": {},
   "outputs": [],
   "source": [
    "#form a set of points for images 3 x Npixels: (x, y, 1), reshape depths to (h * w), unprojection part and coloring part\n",
    "h, w, _ = rgbs[0].shape\n",
    "xv = np.linspace(0, w - 1, w)\n",
    "yv = np.linspace(0, h - 1, h)\n",
    "xx, yy = np.meshgrid(xv, yv)\n",
    "#\n",
    "points2d = np.stack([xx, yy, np.ones_like(xx)], axis=2)\n",
    "points2d = np.reshape(points2d, (h * w, 3))\n",
    "points2d = np.transpose(points2d)\n",
    "\n",
    "points3D_unscaled = np.matmul(K_inv, points2d)\n",
    "#print(points3D_unscaled)\n",
    "points3D = []\n",
    "for i in range(0, len(depths)):\n",
    "    depth_flattened_i = np.reshape(depths[i], (h * w))\n",
    "    points3D.append(np.transpose(points3D_unscaled * depth_flattened_i))\n",
    "\n",
    "print(points3D[0].shape)    \n",
    "points3D_colored = []\n",
    "for i in range(0, len(rgbs)):\n",
    "   color_flattened_i = np.reshape(rgbs[i], (h * w, 3))\n",
    "   points3D_colored.append(np.concatenate([points3D[i], color_flattened_i], axis=1))\n",
    "\n",
    "#print(points3D_colored[0][0])"
   ]
  },
  {
   "cell_type": "code",
   "execution_count": null,
   "metadata": {},
   "outputs": [],
   "source": [
    "#visualize point cloud(s)\n",
    "\n",
    "cloud = o3d.geometry.PointCloud()\n",
    "index2vis = 1\n",
    "cloud.points = o3d.utility.Vector3dVector(points3D_colored[index2vis][:, :3])\n",
    "cloud.colors = o3d.utility.Vector3dVector(points3D_colored[index2vis][:, 3:] / 255.0)\n",
    "\n",
    "o3d.visualization.draw_geometries([cloud])"
   ]
  },
  {
   "cell_type": "code",
   "execution_count": null,
   "metadata": {},
   "outputs": [],
   "source": [
    "#transform and project back, using K (play with the focal length of K)\n",
    "#create 3D transform matrix (4x4, or 3x4), lets say with z translation -1.0\n",
    "M = np.eye(4)[:-1, :]\n",
    "#modify to add translation?\n",
    "M[2, 3] = -0.3\n",
    "M[0, 3] = 0.4\n",
    "\n",
    "#go to projected homogeneous (but keep Z)\n",
    "points2d_new = []\n",
    "for i in range(0, len(points3D)):\n",
    "    points3D_hom_i = np.concatenate([points3D[i], np.ones((h*w, 1), dtype=np.float32)], axis=1)\n",
    "    points3D_hom_i = np.transpose(points3D_hom_i)\n",
    "    transformed_points_i = np.matmul(M, points3D_hom_i)\n",
    "    projected_points_i = np.matmul(K, transformed_points_i)\n",
    "    projected_points_i[:2] = projected_points_i[:2] / projected_points_i[2]\n",
    "    points2d_new.append(projected_points_i)"
   ]
  },
  {
   "cell_type": "code",
   "execution_count": null,
   "metadata": {},
   "outputs": [],
   "source": [
    "images_new = np.zeros((len(points2d_new), h, w, 4), dtype=np.uint8)\n",
    "for i in range(0, len(points2d_new)):\n",
    "   print(\"processed image \" + str(i))\n",
    "   p_new_i = np.transpose(points2d_new[i])\n",
    "   color_flattened_i = np.reshape(rgbs[i], (h * w, 3))\n",
    "   for j in range(0, p_new_i.shape[0]):\n",
    "       px = int(p_new_i[j][0])\n",
    "       py = int(p_new_i[j][1])\n",
    "       z = p_new_i[j][2]\n",
    "       if px >= 0 and px < w and py >= 0 and py < h and (images_new[i][py, px, 3] < 0.001 or images_new[i][py, px, 3] > z):\n",
    "           images_new[i][py, px, 3] = z\n",
    "           images_new[i][py, px, :3] = color_flattened_i[j]"
   ]
  },
  {
   "cell_type": "code",
   "execution_count": null,
   "metadata": {},
   "outputs": [],
   "source": [
    "fig = plt.figure(figsize=(30, 25.0))\n",
    "for i in range(0, len(rgbs)):\n",
    "    plt.subplot(4, 4, i + 1)\n",
    "    plt.axis(\"off\")\n",
    "    plt.imshow(images_new[i][:, :, :3])"
   ]
  },
  {
   "cell_type": "code",
   "execution_count": null,
   "metadata": {},
   "outputs": [],
   "source": []
  }
 ],
 "metadata": {
  "kernelspec": {
   "display_name": "Python 3",
   "language": "python",
   "name": "python3"
  },
  "language_info": {
   "codemirror_mode": {
    "name": "ipython",
    "version": 3
   },
   "file_extension": ".py",
   "mimetype": "text/x-python",
   "name": "python",
   "nbconvert_exporter": "python",
   "pygments_lexer": "ipython3",
   "version": "3.7.6"
  }
 },
 "nbformat": 4,
 "nbformat_minor": 2
}
