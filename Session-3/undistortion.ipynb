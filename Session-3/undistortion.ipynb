{
 "cells": [
  {
   "cell_type": "code",
   "execution_count": null,
   "metadata": {},
   "outputs": [],
   "source": [
    "import numpy as np\n",
    "import cv2\n",
    "import glob\n",
    "import matplotlib.pyplot as plt\n",
    "\n",
    "# termination criteria\n",
    "criteria = (cv2.TERM_CRITERIA_EPS + cv2.TERM_CRITERIA_MAX_ITER, 30, 0.001)\n",
    "\n",
    "# prepare object points, like (0,0,0), (1,0,0), (2,0,0) ....,(6,5,0)\n",
    "objp = np.zeros((6*9, 3), np.float32)\n",
    "objp[:,:2] = np.mgrid[0:9, 0:6].T.reshape(-1,2)\n",
    "\n",
    "# Arrays to store object points and image points from all the images.\n",
    "objpoints = [] # 3d points in real world space\n",
    "imgpoints = [] # 2d points in image plane.\n",
    "\n",
    "#todo: set calib path and test image path\n",
    "calib_path = \"\"\n",
    "test_img_path = \"\"\n",
    "image_names = glob.glob(calib_path + '*.jpg')\n",
    "images = []\n",
    "\n",
    "#read images\n",
    "for i in range(0, len(image_names)):\n",
    "    fname = image_names[i]\n",
    "    img = cv2.imread(fname, -1)\n",
    "    images.append(img)\n",
    "\n",
    "print(\"loaded \" + str(len(images)) + \" images\")"
   ]
  },
  {
   "cell_type": "code",
   "execution_count": null,
   "metadata": {},
   "outputs": [],
   "source": [
    "#find the correspondences between object points and image points\n",
    "for i in range(0, len(images)):\n",
    "    img = images[i]\n",
    "    gray = cv2.cvtColor(img, cv2.COLOR_BGR2GRAY)\n",
    "    #todo: Find the approximate chess board corners using cv2.findChessboardCorners \n",
    "    #ret, corners = \n",
    "    \n",
    "    #If found, add object points, image points (after refining them on subpixel lvl)\n",
    "    if ret:\n",
    "        print(\"found corners for img \" + str(i))\n",
    "        objpoints.append(objp)\n",
    "        #todo: refine corners using cv2.cornerSubPix\n",
    "        #corners2 =\n",
    "        imgpoints.append(corners2)"
   ]
  },
  {
   "cell_type": "code",
   "execution_count": null,
   "metadata": {},
   "outputs": [],
   "source": [
    "#check if corners are found correctly, select any calibration image to visualize\n",
    "i2vis = 2 #0 to 9\n",
    "fig = plt.figure(figsize=(30, 20))\n",
    "img = images[i2vis]\n",
    "# Draw and display the corners\n",
    "plt.axis(\"off\")\n",
    "img = cv2.cvtColor(cv2.drawChessboardCorners(img, (9, 6), imgpoints[i], True), cv2.COLOR_BGR2RGB)\n",
    "plt.imshow(img)\n",
    "plt.show()"
   ]
  },
  {
   "cell_type": "code",
   "execution_count": null,
   "metadata": {},
   "outputs": [],
   "source": [
    "shape = images[0].shape[:-1]\n",
    "#todo: find camera intrinsics and distortion parameters using cv2.calibrateCamera\n",
    "#todo: get params necessary for undistortion: fx, fy, cx, cy, k1, k2, k3, p1, p2\n",
    "\n",
    "print(\"calibration finished\")"
   ]
  },
  {
   "cell_type": "code",
   "execution_count": null,
   "metadata": {},
   "outputs": [],
   "source": [
    "#create meshgrid of pixel coordinates\n",
    "x = np.linspace(0, shape[1] - 1.0, shape[1])\n",
    "y = np.linspace(0, shape[0] - 1.0, shape[0])\n",
    "x, y = np.meshgrid(x, y)\n",
    "#todo: go to unscaled 3D coordinates: -c, /f\n",
    "#todo: precompute radiuses (r^2, r^4, r^6), x*x, x*y, y*y, use obtained unscale 3D coordinates\n",
    "#todo: compute scale of radial distortion\n",
    "#todo: compute translation of tangential distortion\n",
    "#todo: undistort #(x, y) -> (x * scale + dx, y * scale + dy)\n",
    "#todo: go back to pixel coordinates (*f, +c), cast type to float32 if different)\n",
    "#store your results as xmap_undist and ymap_undist\n",
    "\n",
    "print(\"undistortion mapping computed\")"
   ]
  },
  {
   "cell_type": "code",
   "execution_count": null,
   "metadata": {},
   "outputs": [],
   "source": [
    "#todo: load a very distorted image to img\n",
    "#plot distorted\n",
    "fig = plt.figure(figsize=(30, 20))\n",
    "plt.axis(\"off\")\n",
    "img = cv2.cvtColor(img, cv2.COLOR_BGR2RGB)\n",
    "plt.imshow(img)\n",
    "plt.show()\n",
    "#plot undistorted\n",
    "fig = plt.figure(figsize=(30, 20))\n",
    "plt.axis(\"off\")\n",
    "#todo: map image using cv2.remap\n",
    "#img = \n",
    "plt.imshow(img)\n",
    "plt.show()\n",
    "\n",
    "#compare to the mapping computed by opencv: \n",
    "mapx, mapy = cv2.initUndistortRectifyMap(intrinsics, dist_params, None, intrinsics, (4000, 2250), cv2.CV_32FC1)\n",
    "print(\"max remapping error x:\" + str(np.max(np.abs(xmap_undist - mapx))))\n",
    "print(\"max remapping error y:\" + str(np.max(np.abs(ymap_undist - mapy))))"
   ]
  },
  {
   "cell_type": "code",
   "execution_count": null,
   "metadata": {},
   "outputs": [],
   "source": []
  }
 ],
 "metadata": {
  "kernelspec": {
   "display_name": "Python 3",
   "language": "python",
   "name": "python3"
  },
  "language_info": {
   "codemirror_mode": {
    "name": "ipython",
    "version": 3
   },
   "file_extension": ".py",
   "mimetype": "text/x-python",
   "name": "python",
   "nbconvert_exporter": "python",
   "pygments_lexer": "ipython3",
   "version": "3.7.6"
  }
 },
 "nbformat": 4,
 "nbformat_minor": 1
}
